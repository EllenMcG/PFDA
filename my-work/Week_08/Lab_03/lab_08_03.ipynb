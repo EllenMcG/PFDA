{
 "cells": [
  {
   "cell_type": "markdown",
   "metadata": {},
   "source": [
    "# Week 08 - Lab 03 Python and MySQL"
   ]
  },
  {
   "cell_type": "markdown",
   "metadata": {},
   "source": [
    "## 1. MySQL\n",
    "\n",
    "\n",
    "This lab will go through how to navigate connecting to a MySQL database in python using [`MySQL`](https://www.w3schools.com/python/python_mysql_getstarted.asp), however others can be used like [`SQLalchemy`](https://www.sqlalchemy.org/).\n",
    "\n",
    "First it is [installed](https://pypi.org/project/mysql-connector-python/) as below;\n",
    "\n",
    "`conda install mysql-connector-python`\n"
   ]
  },
  {
   "cell_type": "markdown",
   "metadata": {},
   "source": [
    "## 2. Create a database"
   ]
  },
  {
   "cell_type": "markdown",
   "metadata": {},
   "source": [
    "The first part of the lab is to create a database as shown below in `createdatabase.py` called `wsaa`.\n",
    "\n",
    "\n",
    "<p align=\"center\">\n",
    "  <img src=\"createdatabase.png\" />\n",
    "</p>\n",
    "\n",
    "\n"
   ]
  },
  {
   "cell_type": "markdown",
   "metadata": {},
   "source": [
    "## 3. Insert data into `wsaa.db` in `student` table \n",
    "\n",
    "Next data is added into the `wsaa.db` database in a new table called `student` as shown below in `addtable.py` with an auto incrementing primary key, name and age.\n",
    "\n",
    "\n",
    "<p align=\"center\">\n",
    "  <img src=\"addtable.png\" />\n",
    "</p>\n",
    "\n"
   ]
  },
  {
   "cell_type": "markdown",
   "metadata": {},
   "source": [
    "## 4. CRUD operations \n",
    "\n",
    "Typical CRUD operations (create, read, update and delete) were performed in `crud_ops.py` with the code and output shown below. \n",
    "\n",
    "\n",
    "<p align=\"center\">\n",
    "  <img src=\"crud_ops.png\" />\n",
    "</p>\n",
    "\n",
    "\n",
    "`1 record inserted, ID: 1`\n",
    "\n"
   ]
  },
  {
   "cell_type": "markdown",
   "metadata": {},
   "source": [
    "## 5. View data\n",
    "\n",
    "The data in the db can be viewed in `view_data.py` below with the python output\n",
    "\n",
    "<p align=\"center\">\n",
    "  <img src=\"view_data.png\" />\n",
    "</p>\n",
    "\n",
    "\n",
    "`(1, 'Mary', 21)`"
   ]
  },
  {
   "cell_type": "markdown",
   "metadata": {},
   "source": [
    "## 6. Update data\n",
    "\n",
    "The updated data in the db can be viewed in `updated_data.py` below with the first row being updated.\n",
    "\n",
    "<p align=\"center\">\n",
    "  <img src=\"update_data.png\" />\n",
    "</p>"
   ]
  },
  {
   "cell_type": "markdown",
   "metadata": {},
   "source": [
    "## 7. Delete data\n",
    "\n",
    "The deleted data in the db can be viewed in `delete_data.py` below with the first row being deleted.\n",
    "\n",
    "<p align=\"center\">\n",
    "  <img src=\"delete_data.png\" />\n",
    "</p>"
   ]
  }
 ],
 "metadata": {
  "kernelspec": {
   "display_name": "base",
   "language": "python",
   "name": "python3"
  },
  "language_info": {
   "codemirror_mode": {
    "name": "ipython",
    "version": 3
   },
   "file_extension": ".py",
   "mimetype": "text/x-python",
   "name": "python",
   "nbconvert_exporter": "python",
   "pygments_lexer": "ipython3",
   "version": "3.11.9"
  }
 },
 "nbformat": 4,
 "nbformat_minor": 2
}
