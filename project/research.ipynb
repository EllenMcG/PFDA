{
 "cells": [
  {
   "cell_type": "markdown",
   "metadata": {},
   "source": [
    "This notebook has some of the data processing operations and evaluations. "
   ]
  },
  {
   "cell_type": "code",
   "execution_count": 28,
   "metadata": {},
   "outputs": [],
   "source": [
    "import pandas as pd\n",
    "import numpy as np\n",
    "import python_scripts.project_functions as pf\n",
    "import python_scripts.data_processing as dp \n"
   ]
  },
  {
   "cell_type": "code",
   "execution_count": 29,
   "metadata": {},
   "outputs": [
    {
     "name": "stdout",
     "output_type": "stream",
     "text": [
      "(597898, 21)\n",
      "                date  ind  rain  ind.1  temp  ind.2  wetb  dewpt  vappr  rhum  \\\n",
      "0  16-sep-1956 15:00    0   0.0      0  14.4      0  12.1   10.0   12.4    76   \n",
      "1  16-sep-1956 16:00    0   0.0      0  13.9      0  11.6    9.4   11.9    75   \n",
      "2  16-sep-1956 17:00    0   0.0      0  14.2      0  12.0   10.0   12.3    76   \n",
      "3  16-sep-1956 18:00    0   0.0      0  13.0      0  11.6   10.0   12.6    85   \n",
      "4  16-sep-1956 19:00    0   0.0      0  12.6      0  11.7   11.1   13.1    90   \n",
      "\n",
      "   ...  ind.3  wdsp ind.4  wddir ww  w  sun    vis clht clamt  \n",
      "0  ...      1     0     1      0  1  2  0.1  16000  200     5  \n",
      "1  ...      1     0     1      0  1  1  0.1  24000  999     4  \n",
      "2  ...      1     0     1      0  3  1  0.4  19000   90     5  \n",
      "3  ...      1     0     1      0  1  1  0.0  30000   45     4  \n",
      "4  ...      1     0     1      0  3  2  0.0  28000   40     7  \n",
      "\n",
      "[5 rows x 21 columns]\n"
     ]
    }
   ],
   "source": [
    "# setting low_memory to false to stop guessing of column dtypes as this is memory intensive\n",
    "path = 'data\\\\hly2375.csv'\n",
    "data = pd.read_csv(path, skiprows=22, low_memory=False)\n",
    "\n",
    "#data = data_.sample(n=25000, random_state=42)\n",
    "print(data.shape)\n",
    "print(data.head())"
   ]
  },
  {
   "cell_type": "code",
   "execution_count": 30,
   "metadata": {},
   "outputs": [
    {
     "name": "stdout",
     "output_type": "stream",
     "text": [
      "date      object\n",
      "ind        int64\n",
      "rain     float64\n",
      "ind.1      int64\n",
      "temp     float64\n",
      "ind.2      int64\n",
      "wetb     float64\n",
      "dewpt    float64\n",
      "vappr    float64\n",
      "rhum       int64\n",
      "msl      float64\n",
      "ind.3      int64\n",
      "wdsp      object\n",
      "ind.4      int64\n",
      "wddir     object\n",
      "ww        object\n",
      "w         object\n",
      "sun       object\n",
      "vis       object\n",
      "clht      object\n",
      "clamt     object\n",
      "dtype: object\n"
     ]
    }
   ],
   "source": [
    "print(data.dtypes)"
   ]
  },
  {
   "cell_type": "code",
   "execution_count": 31,
   "metadata": {},
   "outputs": [
    {
     "name": "stdout",
     "output_type": "stream",
     "text": [
      "['0.1' '0.4' '0.0' '0.5' '1.0' '0.3' '0.2' '0.9' '0.7' '0.8' '0.6' ' ']\n",
      "107952\n"
     ]
    }
   ],
   "source": [
    "# code to check for missing values classed as whitespace\n",
    "unique = data['sun'].unique()\n",
    "print(unique)\n",
    "\n",
    "missing_whtspace = data['sun'].str.startswith(' ').sum()\n",
    "print(missing_whtspace)"
   ]
  },
  {
   "cell_type": "code",
   "execution_count": 32,
   "metadata": {},
   "outputs": [
    {
     "name": "stdout",
     "output_type": "stream",
     "text": [
      "(597898, 21)\n"
     ]
    }
   ],
   "source": [
    "print(data.shape)"
   ]
  },
  {
   "cell_type": "code",
   "execution_count": 33,
   "metadata": {},
   "outputs": [],
   "source": [
    "processor = dp.DataProcessor(data)\n",
    "columns_to_check = ['sun', 'vis', 'wddir']\n",
    "processor.remove_rows_with_whitespace(columns_to_check)"
   ]
  },
  {
   "cell_type": "code",
   "execution_count": 34,
   "metadata": {},
   "outputs": [
    {
     "name": "stdout",
     "output_type": "stream",
     "text": [
      "(597898, 21)\n"
     ]
    }
   ],
   "source": [
    "print(data.shape)"
   ]
  },
  {
   "cell_type": "code",
   "execution_count": 35,
   "metadata": {},
   "outputs": [
    {
     "name": "stdout",
     "output_type": "stream",
     "text": [
      "['16000' '24000' '19000' '30000' '28000' '22000' '27000' '25000' '12000'\n",
      " '11000' '14000' '20000' '17000' '8000' '9000' '13000' '40000' '45000'\n",
      " '4000' '60000' '35000' '6000' '55000' '7000' '4800' '3200' '4400' '2000'\n",
      " '1200' '1600' '2400' '75000' '5000' '200' ' ' '400' '100' '900' '10000'\n",
      " '50000' '21000' '800' '1400' '1300' '3600' '70000' '65000' '600' '500'\n",
      " '23000' '2800' '700' '1800' '300' '1000' '1100' '50' '90' '15000' '26000'\n",
      " '70' '1500' '3000' '4500' '2500' '18000' '3500' '1700' '3800' '80' '60'\n",
      " '2600' '3400' '4600' '4200' '2200' '2300' '40' '4300' '1900' '4700'\n",
      " '29000' '2700' '3700' '2100' '3300' '3900' '3100' '2900' '15' '4900']\n",
      "108052\n"
     ]
    }
   ],
   "source": [
    "# code to check for missing values classed as whitespace\n",
    "unique = data['vis'].unique()\n",
    "print(unique)\n",
    "\n",
    "missing_whtspace = data['vis'].str.startswith(' ').sum()\n",
    "print(missing_whtspace)"
   ]
  },
  {
   "cell_type": "code",
   "execution_count": 36,
   "metadata": {},
   "outputs": [
    {
     "name": "stdout",
     "output_type": "stream",
     "text": [
      "['200' '999' '90' '45' '40' '120' '50' '100' '180' '60' '43' '80' '17'\n",
      " '16' '35' '21' '39' '19' '20' '42' '41' '110' '22' '23' '18' '5' '32' '7'\n",
      " '15' '38' '31' '36' '49' '12' '14' '190' '300' '140' '130' '25' '6' '26'\n",
      " '10' '8' '11' '150' '240' '13' '55' '46' '51' '24' '33' '28' '3' '9' '63'\n",
      " '48' '27' '56' '2' '1' '34' '250' '220' '30' '4' '37' '47' '160' '29'\n",
      " '59' '70' '65' '44' '170' '230' '53' '54' '210' '62' '85' '52' '71' '75'\n",
      " '260' '0' '270' '95' '57' '58' '99' '82' ' ' '238']\n",
      "108042\n"
     ]
    }
   ],
   "source": [
    "# code to check for missing values classed as whitespace\n",
    "unique = data['clht'].unique()\n",
    "print(unique)\n",
    "\n",
    "missing_whtspace = data['clht'].str.startswith(' ').sum()\n",
    "print(missing_whtspace)"
   ]
  },
  {
   "cell_type": "code",
   "execution_count": 37,
   "metadata": {},
   "outputs": [
    {
     "name": "stdout",
     "output_type": "stream",
     "text": [
      "['5' '4' '7' '3' '2' '6' '8' '1' '0' ' ']\n",
      "108042\n"
     ]
    }
   ],
   "source": [
    "# code to check for missing values classed as whitespace\n",
    "unique = data['clamt'].unique()\n",
    "print(unique)\n",
    "\n",
    "missing_whtspace = data['clamt'].str.startswith(' ').sum()\n",
    "print(missing_whtspace)"
   ]
  },
  {
   "cell_type": "code",
   "execution_count": 38,
   "metadata": {},
   "outputs": [
    {
     "name": "stdout",
     "output_type": "stream",
     "text": [
      "['0' '80' '90' '60' '70' '50' '100' '110' '120' '140' '180' '160' '130'\n",
      " '150' '170' '200' '190' '210' '220' '230' '240' '40' '250' '260' '270'\n",
      " '280' '340' '300' '290' '310' '320' '330' '360' '350' '10' '20' '30' ' ']\n",
      "8\n"
     ]
    }
   ],
   "source": [
    "# code to check for missing values classed as whitespace\n",
    "unique = data['wddir'].unique()\n",
    "print(unique)\n",
    "\n",
    "missing_whtspace = data['wddir'].str.startswith(' ').sum()\n",
    "print(missing_whtspace)"
   ]
  },
  {
   "cell_type": "code",
   "execution_count": 39,
   "metadata": {},
   "outputs": [
    {
     "name": "stdout",
     "output_type": "stream",
     "text": [
      "['2' '1' '5' '8' '6' '0' '4' '7' '9' '81' '11' '88' '62' '66' '65' '22'\n",
      " '55' '54' '64' '60' '61' '82' '52' '80' '21' '51' '86' '42' '85' '20'\n",
      " '72' '76' '98' '78' '10' '40' '41' '96' '25' '44' '87' '84' '91' '71'\n",
      " '75' '95' '77' '32' ' ' '68' '83' '12' '92' '56' '63' '45' '99' '90']\n",
      "108018\n"
     ]
    }
   ],
   "source": [
    "# code to check for missing values classed as whitespace\n",
    "unique = data['w'].unique()\n",
    "print(unique)\n",
    "\n",
    "missing_whtspace = data['w'].str.startswith(' ').sum()\n",
    "print(missing_whtspace)"
   ]
  },
  {
   "cell_type": "code",
   "execution_count": 40,
   "metadata": {},
   "outputs": [
    {
     "name": "stdout",
     "output_type": "stream",
     "text": [
      "['2' '1' '5' '8' '6' '0' '4' '7' '9' '81' '11' '88' '62' '66' '65' '22'\n",
      " '55' '54' '64' '60' '61' '82' '52' '80' '21' '51' '86' '42' '85' '20'\n",
      " '72' '76' '98' '78' '10' '40' '41' '96' '25' '44' '87' '84' '91' '71'\n",
      " '75' '95' '77' '32' ' ' '68' '83' '12' '92' '56' '63' '45' '99' '90']\n",
      "108018\n"
     ]
    }
   ],
   "source": [
    "# code to check for missing values classed as whitespace\n",
    "unique = data['w'].unique()\n",
    "print(unique)\n",
    "\n",
    "missing_whtspace = data['w'].str.startswith(' ').sum()\n",
    "print(missing_whtspace)"
   ]
  },
  {
   "cell_type": "markdown",
   "metadata": {},
   "source": [
    "Using `remove_rows_with_whitespace` didn't work. "
   ]
  },
  {
   "cell_type": "code",
   "execution_count": 42,
   "metadata": {},
   "outputs": [],
   "source": [
    "data = data[data.sun != ' ']\n",
    "columns_to_check = ['sun', 'vis', 'clht', 'clamt', 'wddir'] \n",
    "\n",
    "for column in columns_to_check:\n",
    "     data = data[data[column] != ' ']\n",
    "\n",
    "# Now 'data' is filtered for all specified columns"
   ]
  },
  {
   "cell_type": "code",
   "execution_count": 43,
   "metadata": {},
   "outputs": [
    {
     "name": "stdout",
     "output_type": "stream",
     "text": [
      "(489845, 21)\n"
     ]
    }
   ],
   "source": [
    "print(data.shape)"
   ]
  },
  {
   "cell_type": "markdown",
   "metadata": {},
   "source": [
    "This approach works instead. "
   ]
  }
 ],
 "metadata": {
  "kernelspec": {
   "display_name": "base",
   "language": "python",
   "name": "python3"
  },
  "language_info": {
   "codemirror_mode": {
    "name": "ipython",
    "version": 3
   },
   "file_extension": ".py",
   "mimetype": "text/x-python",
   "name": "python",
   "nbconvert_exporter": "python",
   "pygments_lexer": "ipython3",
   "version": "3.11.9"
  }
 },
 "nbformat": 4,
 "nbformat_minor": 2
}
