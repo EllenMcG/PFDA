{
 "cells": [
  {
   "cell_type": "markdown",
   "metadata": {},
   "source": [
    "# Week 08 - Lab 01 Databases"
   ]
  },
  {
   "cell_type": "markdown",
   "metadata": {},
   "source": [
    "## 1. Installation of MySQL Database \n",
    "\n",
    "For the first part of this lab a MySQL database was installed using [WAMP](https://www.wampserver.com/en/download-wampserver-64bits/) as this PC runs on a Windows OS. All the specific SQL commands used as part of this lab is located in the file `lab_08_01.sql` in this directory. \n",
    "\n",
    "When downloaded an error occured where several versions of the Visual C++ Redistribuable packages were missing. \n",
    "\n",
    "<p align=\"center\">\n",
    "  <img src=\"install_error.png\" />\n",
    "</p>\n",
    "\n",
    "From the WAMP error codes, the best way to install Visual C++ Redistributable Packages is from [WAMP Server](https://wampserver.aviatechno.net/) and the 64-bit [VC++ Packages](https://wampserver.aviatechno.net/) were downloaded. To ensure all the required VC++ Packages were insalled using **VisualCppRedist AIO** developed by [*abbodi1406*](https://github.com/abbodi1406/vcredist). Using the MySQL Console of WAMP Server below, the system was properly configured after the fix\n",
    "\n",
    "<p align=\"center\">\n",
    "  <img src=\"my_sql_login.png\" />\n",
    "</p>\n"
   ]
  },
  {
   "cell_type": "markdown",
   "metadata": {},
   "source": [
    "## 2. MySQL Database\n",
    "\n",
    "Using the MySQL Console there should be no databases present by using the `show databases;` command except the four default databases (`information_schema`, `mysql`, `performance_schema`, and `sys`) as shown below.\n",
    "\n",
    "<p align=\"center\">\n",
    "  <img src=\"show_databases.png\" />\n",
    "</p>"
   ]
  },
  {
   "cell_type": "markdown",
   "metadata": {},
   "source": [
    "## 3. Create a MySQL database\n",
    "\n",
    "The following commands were used in the MySQL Console to create a database (`pfda`) and insert data into the `student` table. \n",
    "\n",
    "#### - Create a database called pdfa\n",
    "&emsp;&emsp;`create database pfda;`\n",
    "\n",
    "#### - Use database pfda using use\n",
    "&emsp;&emsp;`use pfda;`\n",
    "\n",
    "#### - Create a table called `student` with three columns \n",
    "&emsp;&emsp;`create table student (id int, firstname varchar(100), age int(3));`\n",
    "\n",
    "#### - Insert data into student\n",
    "&emsp;&emsp;`insert into student (id, firstname, age) values (1,'joe',56);`\n",
    "\n",
    "#### - View data in student table\n",
    "&emsp;&emsp;`select * from student;`\n",
    "\n",
    "#### - View column types in student\n",
    "&emsp;&emsp;`desc student;`\n",
    "\n",
    "#### - Update data in student \n",
    "&emsp;&emsp;`update student set firstname='mary' where id = 1;`\n",
    "\n",
    "#### - Delete data in student \n",
    "&emsp;&emsp;`Delete from student where id = 1;`\n",
    "\n",
    "#### - Drop the table in pfda\n",
    "&emsp;&emsp;`drop table student;`\n",
    "\n"
   ]
  },
  {
   "cell_type": "markdown",
   "metadata": {},
   "source": [
    "## 3. MySQL Database - Books\n",
    "\n",
    "Make a table called `book` that has four columns (id, title, author, price) and insert data into it. \n",
    "\n",
    "The following commands were used. \n",
    "\n",
    "#### - Create a table called `book` with four columns (id, tite, author price)\n",
    "&emsp;&emsp;`create table book (id int, title varchar(250), author varchar(250), price decimal(4,2) NOT NULL);`\n",
    "\n",
    "#### - Insert data into book\n",
    "&emsp;&emsp;`insert into book (id, title, author, price) values (1,'Horns', 'Joe Hill',10.33);`\n",
    "\n",
    "&emsp;&emsp;`insert into book (id, title, author, price) values (2,'The Stand', 'Stephen King',10.30);`\n",
    "\n",
    "&emsp;&emsp;`insert into book (id, title, author, price) values (3,'Tress of the Emerald Sea', 'Brandon Sanderson',9.37);`\n",
    "\n",
    "&emsp;&emsp;`insert into book (id, title, author, price) values (4,'Forth Wing', 'Rebecca Yarros',5.50);`\n",
    "\n",
    "#### - View data in book table\n",
    "&emsp;&emsp;`select * from book;`\n",
    "\n",
    "\n",
    "#### - View column types in book\n",
    "&emsp;&emsp;`desc book;`\n",
    "\n",
    "\n",
    "Viewing the data for `book` in **phpMyAdmin** shows the data below. \n",
    "<p align=\"center\">\n",
    "  <img src=\"book.png\" />\n",
    "</p>\n",
    "\n"
   ]
  }
 ],
 "metadata": {
  "language_info": {
   "name": "python"
  }
 },
 "nbformat": 4,
 "nbformat_minor": 2
}
