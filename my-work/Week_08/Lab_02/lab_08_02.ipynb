{
 "cells": [
  {
   "cell_type": "markdown",
   "metadata": {},
   "source": [
    "# Week 08 - Lab 02 Python and SQLite3"
   ]
  },
  {
   "cell_type": "markdown",
   "metadata": {},
   "source": [
    "## 1. SQLite3 \n",
    "\n",
    "[SQLite3](https://docs.python.org/3/library/sqlite3.html) is standard python module that does not require a server such as with MySQL completed as part of *lab_08_01.ipynb*. The SQLite3 module can intregrate with the SQLite database directly through python and provides a simple interface to interact with said database (further information on SQLite3 is found [here](https://www.geeksforgeeks.org/python-sqlite/)).\n",
    "\n",
    "This lab will go through how to navigate the SQLite3 module.\n"
   ]
  },
  {
   "cell_type": "markdown",
   "metadata": {},
   "source": [
    "## 2. Create a database"
   ]
  },
  {
   "cell_type": "markdown",
   "metadata": {},
   "source": [
    "The first part of the lab is to create a database as shown below in `createbooktable.py`\n",
    "\n",
    "\n",
    "<p align=\"center\">\n",
    "  <img src=\"createbooktable.png\" />\n",
    "</p>\n",
    "\n",
    "\n"
   ]
  },
  {
   "cell_type": "markdown",
   "metadata": {},
   "source": [
    "## 3. Insert data into `pfda.db`\n",
    "\n",
    "Next data is added into the `pfda.db` database as shown below in `insertnotebook.py`\n",
    "\n",
    "\n",
    "<p align=\"center\">\n",
    "  <img src=\"insertnotebook.png\" />\n",
    "</p>\n",
    "\n",
    "This returns an output of \n",
    "\n",
    "`None`\n",
    "\n",
    "`('Harry Pothead', 'Just Kidding Really', '112344')`\n",
    "\n",
    "\n",
    "The above is missing a `con.commit()` command and when `insertnotebook.py` is updated with this command."
   ]
  },
  {
   "cell_type": "markdown",
   "metadata": {},
   "source": [
    "## 4. Use fetchall to get the entire table\n",
    "\n",
    "All rows were returned in `getallbooks.py` with the code and output shown below. \n",
    "\n",
    "\n",
    "<p align=\"center\">\n",
    "  <img src=\"getallbooks.png\" />\n",
    "</p>\n",
    "\n",
    "\n",
    "`row('Harry Pothead', 'Just Kidding Really', '112344')`\n",
    "\n",
    "`row('Harry Potter does something profound', 'JK Rowling', '123444')`\n",
    "\n"
   ]
  },
  {
   "cell_type": "markdown",
   "metadata": {},
   "source": [
    "## 5. SQL injection\n",
    "\n",
    "If input is taken from user (directly or indirectly), it is better practice to not put the data in as a SQL string, but to write a program to do this. This was done with `enterbook.py` below. \n",
    "\n",
    "This was tested using *Stephen Kings The Stand* which has as ISBN-10 of *9780307743688* which has the below code and output. \n",
    "\n",
    "<p align=\"center\">\n",
    "  <img src=\"enterbook.png\" />\n",
    "</p>\n",
    "\n",
    "\n",
    "`row('Harry Pothead', 'Just Kidding Really', '112344')`\n",
    "\n",
    "`row('Harry Potter does something profound', 'JK Rowling', '123444')`\n",
    "\n",
    "`row('The Stand', 'Stephen King', '9780307743688')`"
   ]
  }
 ],
 "metadata": {
  "kernelspec": {
   "display_name": "base",
   "language": "python",
   "name": "python3"
  },
  "language_info": {
   "codemirror_mode": {
    "name": "ipython",
    "version": 3
   },
   "file_extension": ".py",
   "mimetype": "text/x-python",
   "name": "python",
   "nbconvert_exporter": "python",
   "pygments_lexer": "ipython3",
   "version": "3.11.9"
  }
 },
 "nbformat": 4,
 "nbformat_minor": 2
}
