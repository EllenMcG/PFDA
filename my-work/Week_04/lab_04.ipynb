{
 "cells": [
  {
   "cell_type": "markdown",
   "metadata": {},
   "source": [
    "# Lab 04 \n",
    "\n",
    "This lab for Week 04 was done in a Jupyter Notebook to keep all the regular expression (REGEX) content within the one space. Several of the tasks use a created txt file, while the later tasks use the file *accces.log* whicg is extracted from a ZIP file from *Splunk* available [here](https://docs.splunk.com/images/Tutorial/tutorialdata.zip)."
   ]
  },
  {
   "cell_type": "code",
   "execution_count": 276,
   "metadata": {},
   "outputs": [],
   "source": [
    "import numpy as np\n",
    "import pandas as pd\n",
    "import re\n",
    "from io import BytesIO\n",
    "from zipfile import ZipFile\n",
    "from urllib.request import urlopen\n",
    "import shutil"
   ]
  },
  {
   "cell_type": "markdown",
   "metadata": {},
   "source": [
    "## Task 1\n",
    "\n",
    "The below text in a txt file (*quiz.txt*) can be printed with the below python regex to print every line (as line is the regex in this case).\n",
    "\n",
    "> hello\\\n",
    "> Hello\\\n",
    "> Hello World\\\n",
    "> Helo John\\\n",
    ">       Hello mary\\\n",
    "> Helllllllllllo Anamaniacs\\\n",
    "> var = 123\\\n",
    "> change this #this will change\\\n",
    "> what [about] this.\n"
   ]
  },
  {
   "cell_type": "code",
   "execution_count": 277,
   "metadata": {},
   "outputs": [
    {
     "name": "stdout",
     "output_type": "stream",
     "text": [
      "hello\n",
      "Hello\n",
      "Hello World\n",
      "Helo John\n",
      "       Hello mary\n",
      "Helllllllllllo Anamaniacs\n",
      "var = 123\n",
      "change this #this will change\n",
      "what [about] this.\n"
     ]
    }
   ],
   "source": [
    "# Firstly create the txt fie (quiz.txt) using a context manager and wrapping in a try/finally clause\n",
    "# resource: https://stackoverflow.com/questions/8495422/use-a-context-manager-to-redirect-script-output-to-a-file\n",
    "\n",
    "text_data = '''hello\n",
    "Hello\n",
    "Hello World\n",
    "Helo John\n",
    "       Hello mary\n",
    "Helllllllllllo Anamaniacs\n",
    "var = 123\n",
    "change this #this will change\n",
    "what [about] this.\n",
    "'''\n",
    "\n",
    "file = open('quiz.txt', \"w\")\n",
    "\n",
    "try:\n",
    "    file.write(text_data)\n",
    "finally:\n",
    "    # closing file\n",
    "    file.close()\n",
    "\n",
    "regex = '.*'\n",
    "filename = 'quiz.txt'\n",
    "\n",
    "with open(filename) as quizFile:\n",
    "    for line in quizFile:\n",
    "        searchresult = re.search(regex, line)\n",
    "        if (searchresult):\n",
    "            matchingLine = line\n",
    "            print(matchingLine, end='')\n",
    "\n",
    "# Printed content maches above \n"
   ]
  },
  {
   "cell_type": "markdown",
   "metadata": {},
   "source": [
    "For Task one,what lines will be printed out for the following regular expressions?\n",
    "- 1.a hello\n",
    "- 1.b Hello\n",
    "- 1.c ^Hello\n",
    "- 1.d ^Hell*o\n",
    "- 1.e ^Hell+o\n",
    "- 1.f ^Hell?o\n",
    "- 1.g. ^hello [A-Z]\n",
    "- 1.h ^Hello [A-Z]\n",
    "- 1.i =\n",
    "- 1.j #\n",
    "- 1.k [\n",
    "- 1.l ^$"
   ]
  },
  {
   "cell_type": "code",
   "execution_count": 278,
   "metadata": {},
   "outputs": [
    {
     "name": "stdout",
     "output_type": "stream",
     "text": [
      "hello\n"
     ]
    }
   ],
   "source": [
    "# 1.a - hello \n",
    "regex = 'hello'\n",
    "\n",
    "with open(filename) as quizFile:\n",
    "    for line in quizFile:\n",
    "        searchresult = re.search(regex, line)\n",
    "        if (searchresult):\n",
    "            matchingLine = line\n",
    "            print(matchingLine, end='')\n",
    "# only the first line is printed as regex is case sensitive "
   ]
  },
  {
   "cell_type": "code",
   "execution_count": 279,
   "metadata": {},
   "outputs": [
    {
     "name": "stdout",
     "output_type": "stream",
     "text": [
      "Hello\n",
      "Hello World\n",
      "       Hello mary\n"
     ]
    }
   ],
   "source": [
    "# 1.b - Hello \n",
    "regex = 'Hello'\n",
    "\n",
    "with open(filename) as quizFile:\n",
    "    for line in quizFile:\n",
    "        searchresult = re.search(regex, line)\n",
    "        if (searchresult):\n",
    "            matchingLine = line\n",
    "            print(matchingLine, end='')\n",
    "# Three lines are printed as regex is case sensitive and Hello used three times"
   ]
  },
  {
   "cell_type": "code",
   "execution_count": 280,
   "metadata": {},
   "outputs": [
    {
     "name": "stdout",
     "output_type": "stream",
     "text": [
      "Hello\n",
      "Hello World\n"
     ]
    }
   ],
   "source": [
    "# 1.c - ^Hello \n",
    "regex = '^Hello'\n",
    "\n",
    "with open(filename) as quizFile:\n",
    "    for line in quizFile:\n",
    "        searchresult = re.search(regex, line)\n",
    "        if (searchresult):\n",
    "            matchingLine = line\n",
    "            print(matchingLine, end='')\n",
    "# Two lines are printed as regex is case sensitive only two lines start with Hello, the third has a blank space so not matched"
   ]
  },
  {
   "cell_type": "code",
   "execution_count": 281,
   "metadata": {},
   "outputs": [
    {
     "name": "stdout",
     "output_type": "stream",
     "text": [
      "Hello\n",
      "Hello World\n",
      "Helo John\n",
      "Helllllllllllo Anamaniacs\n"
     ]
    }
   ],
   "source": [
    "# 1.d - ^Hell*o \n",
    "regex = '^Hell*o'\n",
    "\n",
    "with open(filename) as quizFile:\n",
    "    for line in quizFile:\n",
    "        searchresult = re.search(regex, line)\n",
    "        if (searchresult):\n",
    "            matchingLine = line\n",
    "            print(matchingLine, end='')\n",
    "# Four lines are printed "
   ]
  },
  {
   "cell_type": "code",
   "execution_count": 282,
   "metadata": {},
   "outputs": [
    {
     "name": "stdout",
     "output_type": "stream",
     "text": [
      "Hello\n",
      "Hello World\n",
      "Helllllllllllo Anamaniacs\n"
     ]
    }
   ],
   "source": [
    "# 1.e - ^Hell+o \n",
    "regex = '^Hell+o'\n",
    "\n",
    "with open(filename) as quizFile:\n",
    "    for line in quizFile:\n",
    "        searchresult = re.search(regex, line)\n",
    "        if (searchresult):\n",
    "            matchingLine = line\n",
    "            print(matchingLine, end='')\n",
    "# Three lines are printed "
   ]
  },
  {
   "cell_type": "code",
   "execution_count": 283,
   "metadata": {},
   "outputs": [
    {
     "name": "stdout",
     "output_type": "stream",
     "text": [
      "Hello\n",
      "Hello World\n",
      "Helo John\n"
     ]
    }
   ],
   "source": [
    "# 1.f - ^Hell?o \n",
    "regex = '^Hell?o'\n",
    "\n",
    "with open(filename) as quizFile:\n",
    "    for line in quizFile:\n",
    "        searchresult = re.search(regex, line)\n",
    "        if (searchresult):\n",
    "            matchingLine = line\n",
    "            print(matchingLine, end='')\n",
    "# Three lines are printed "
   ]
  },
  {
   "cell_type": "code",
   "execution_count": 284,
   "metadata": {},
   "outputs": [],
   "source": [
    "# 1.g - ^hello [A-Z] \n",
    "regex = '^hello [A-Z]'\n",
    "\n",
    "with open(filename) as quizFile:\n",
    "    for line in quizFile:\n",
    "        searchresult = re.search(regex, line)\n",
    "        if (searchresult):\n",
    "            matchingLine = line\n",
    "            print(matchingLine, end='')\n",
    "# no lines are printed"
   ]
  },
  {
   "cell_type": "code",
   "execution_count": 285,
   "metadata": {},
   "outputs": [
    {
     "name": "stdout",
     "output_type": "stream",
     "text": [
      "Hello World\n"
     ]
    }
   ],
   "source": [
    "# 1.h - ^Hello [A-Z] \n",
    "regex = '^Hello [A-Z]'\n",
    "\n",
    "with open(filename) as quizFile:\n",
    "    for line in quizFile:\n",
    "        searchresult = re.search(regex, line)\n",
    "        if (searchresult):\n",
    "            matchingLine = line\n",
    "            print(matchingLine, end='')\n",
    "# One line is printed"
   ]
  },
  {
   "cell_type": "code",
   "execution_count": 286,
   "metadata": {},
   "outputs": [
    {
     "name": "stdout",
     "output_type": "stream",
     "text": [
      "var = 123\n"
     ]
    }
   ],
   "source": [
    "# 1.i - = \n",
    "regex = '='\n",
    "\n",
    "with open(filename) as quizFile:\n",
    "    for line in quizFile:\n",
    "        searchresult = re.search(regex, line)\n",
    "        if (searchresult):\n",
    "            matchingLine = line\n",
    "            print(matchingLine, end='')\n",
    "# One line is printed "
   ]
  },
  {
   "cell_type": "code",
   "execution_count": 287,
   "metadata": {},
   "outputs": [
    {
     "name": "stdout",
     "output_type": "stream",
     "text": [
      "change this #this will change\n"
     ]
    }
   ],
   "source": [
    "# 1.j - #\n",
    "regex = '#'\n",
    "\n",
    "with open(filename) as quizFile:\n",
    "    for line in quizFile:\n",
    "        searchresult = re.search(regex, line)\n",
    "        if (searchresult):\n",
    "            matchingLine = line\n",
    "            print(matchingLine, end='')\n",
    "# One line is printed "
   ]
  },
  {
   "cell_type": "code",
   "execution_count": 288,
   "metadata": {},
   "outputs": [
    {
     "name": "stdout",
     "output_type": "stream",
     "text": [
      "what [about] this.\n"
     ]
    }
   ],
   "source": [
    "# 1.i - [\n",
    "regex = '\\['\n",
    "\n",
    "with open(filename) as quizFile:\n",
    "    for line in quizFile:\n",
    "        searchresult = re.search(regex, line)\n",
    "        if (searchresult):\n",
    "            matchingLine = line\n",
    "            print(matchingLine, end='')\n",
    "# One line is printed. Using [ would result in an error us needed to change format"
   ]
  },
  {
   "cell_type": "code",
   "execution_count": 289,
   "metadata": {},
   "outputs": [],
   "source": [
    "# 1.j - ^$\n",
    "regex = '^$'\n",
    "\n",
    "with open(filename) as quizFile:\n",
    "    for line in quizFile:\n",
    "        searchresult = re.search(regex, line)\n",
    "        if (searchresult):\n",
    "            matchingLine = line\n",
    "            print(matchingLine, end='')\n",
    "# Matched to line 10, but as it contains nothing, nothing is printed. "
   ]
  },
  {
   "attachments": {
    "image.png": {
     "image/png": "[encoded data removed]"
    }
   },
   "cell_type": "markdown",
   "metadata": {},
   "source": [
    "## Task Two\n",
    "\n",
    "the file *accces.log* whicg is extracted from a ZIP file from *Splunk* available [here](https://docs.splunk.com/images/Tutorial/tutorialdata.zip). As there were several *access.log* files, the one from the ww1 directory was used. Trying to unzip this file was tricky as using the suggestion [here](https://stackoverflow.com/questions/5710867/downloading-and-unzipping-a-zip-file-without-writing-to-disk) we would get a string literal, so that all of text would have a b character proceeded by all of the log file content as below (further info on these string literals was sought [here](https://stackoverflow.com/questions/6269765/what-does-the-b-character-do-in-front-of-a-string-literal)). \n",
    "\n",
    "![image.png](attachment:image.png)\n",
    "\n",
    "This was fixed by changing the format of log file to txt file. \n",
    "\n",
    "\n",
    "Search for \n",
    "- 2.a all of the numbers\n",
    "- 2.b The first digits of the IP address at the start of each line\n",
    "- 2.c The dates and times at the end of each line \n",
    "- 2.d The dates and times \n",
    "- 2.e The times \n",
    "- 2.f The variable names in the URLs\n",
    "- 2.g The variable values in the URLs\n",
    "- 2.h The last 2 triples of an IP address."
   ]
  },
  {
   "cell_type": "code",
   "execution_count": 290,
   "metadata": {},
   "outputs": [
    {
     "name": "stdout",
     "output_type": "stream",
     "text": [
      "['www1/', 'www1/secure.log', 'www1/access.log', 'www3/', 'www3/secure.log', 'www3/access.log', 'vendor_sales/', 'vendor_sales/vendor_sales.log', 'www2/', 'www2/secure.log', 'www2/access.log', 'mailsv/', 'mailsv/secure.log']\n"
     ]
    }
   ],
   "source": [
    "url = 'https://docs.splunk.com/images/Tutorial/tutorialdata.zip'\n",
    "\n",
    "resp = urlopen(url)\n",
    "myzip = ZipFile(BytesIO(resp.read()))\n",
    "print(myzip.namelist())\n",
    "\n",
    "access_log_file = myzip.open('www1/secure.log')\n",
    "data = access_log_file.read()\n",
    "\n",
    "with open('access.txt', 'wb') as f: \n",
    "    f.write(data)\n",
    "\n",
    "# slicing to make a smaller access file as access.txt is over 100000 characters \n",
    "sliced_string = data[0:250]\n",
    "\n",
    "with open('smaller_access.txt', 'w') as f: \n",
    "    f.write(slided_string)\n",
    "\n",
    "# https://stackoverflow.com/questions/5710867/downloading-and-unzipping-a-zip-file-without-writing-to-disk"
   ]
  },
  {
   "cell_type": "code",
   "execution_count": 291,
   "metadata": {},
   "outputs": [
    {
     "name": "stdout",
     "output_type": "stream",
     "text": [
      "Thu Oct 17 2024 16:33:52 www1 sshd[4747]: Failed password for invalid user jabber from 118.142.68.222 port 3187 ssh2\n",
      "Thu Oct 17 2024 16:33:52 www1 sshd[4111]: Failed password for invalid user db2 from 118.142.68.222 port 4150 ssh2\n",
      "Thu Oct 17 2024 16:33:52 www1 sshd[5359]: Failed password for invalid user pmuser from 118.142.68.222 port 3356 ssh2\n",
      "Thu Oct 17 2024 16:33:52 www1 su: pam_unix(su:session): session opened for user root by djohnson(uid=0)\n",
      "Thu Oct 17 2024 16:33:52 www1 sshd[2660]: Failed password for invalid user irc from 118.142.68.222 port 4343 ssh2\n",
      "Thu Oct 17 2024 16:33:52 www1 sshd[1705]: Failed password for happy from 118.142.68.222 port 4174 ssh2\n",
      "Thu Oct 17 2024 16:33:52 www1 sshd[1292]: Failed password for nobody from 118.142.68.222 port 1654 ssh2\n",
      "Thu Oct 17 2024 16:33:52 www1 sshd[1560]: Failed password for invalid user local from 118.142.68.222 port 4616 ssh2\n",
      "Thu Oct 17 2024 16:33:52 www1 sshd[59414]: Accepted password for myuan from 10.1.10.172 port 1569 ssh2\n",
      "Thu Oct 17 2024 16:33:52 www1 sshd[1876]: Failed password for invalid user db2 from 118.142.68.222 port 1151 ssh2\n",
      "Thu Oct 17 2024 16:33:52 www1 sshd[3310]: Failed password for apache from 118.142.68.222 port 4343 ssh2\n",
      "Thu Oct 17 2024 16:33:52 www1 sshd[2149]: Failed password for nobody from 118.142.68.222 port 1527 ssh2\n",
      "Thu Oct 17 2024 16:33:52 www1 sshd[2766]: Failed password for invalid user guest from 118.142.68.222 port 2581 ssh2\n",
      "Thu Oct 17 2024 16:33:52 www1 sshd[3118]: pam_unix(sshd:session): session opened for user djohnson by (uid=0)\n",
      "Thu Oct 17 2024 16:33:52 www1 sshd[2598]: Failed password for invalid user system from 118.142.68.222 port 1848 ssh2\n",
      "Thu Oct 17 2024 16:33:52 www1 sshd[4637]: Failed password for invalid user sys from 211.140.3.183 port 1202 ssh2\n",
      "Thu Oct 17 2024 16:33:52 www1 sshd[1335]: Failed password for invalid user mysql from 211.140.3.183 port 3043 ssh2\n",
      "Thu Oct 17 2024 16:33:52 www1 sshd[4153]: Failed password for squid from 211.140.3.183 port 3634 ssh2\n",
      "Thu Oct 17 2024 16:33:52 www1 sshd[3149]: Failed password for invalid user irc from 208.240.243.170 port 3104 ssh2\n",
      "Thu Oct 17 2024 16:33:52 www1 sshd[4620]: Failed password for invalid user sysadmin from 208.240.243.170 port 3321 ssh2\n",
      "Thu Oct 17 2024 16:33:52 www1 sshd[1260]: Failed password for invalid user limbo from 208.240.243.170 port 3720 ssh2\n",
      "Thu Oct 17 2024 16:33:52 www1 sshd[6069]: Accepted password for djohnson from 10.3.10.46 port 9177 ssh2\n",
      "Thu Oct 17 2024 16:33:52 www1 sshd[3919]: Failed password"
     ]
    }
   ],
   "source": [
    "# 2.1a - all of the numbers\n",
    "filename = 'smaller_access.txt'\n",
    "regex = '[0-9]'\n",
    "\n",
    "with open(filename) as inputFile:\n",
    "    for line in inputFile:\n",
    "        searchresult = re.search(regex, line)\n",
    "        if (searchresult):\n",
    "            matchingLine = line\n",
    "            print(matchingLine, end='')\n",
    "# all lines printed "
   ]
  },
  {
   "cell_type": "code",
   "execution_count": 292,
   "metadata": {},
   "outputs": [],
   "source": [
    "# 2.b The first digits of the IP address at the start of each line\n",
    "\n",
    "regex = '^[0-9]+\\.'\n",
    "\n",
    "with open(filename) as inputFile:\n",
    "    for line in inputFile:\n",
    "        searchresult = re.search(regex, line)\n",
    "        if (searchresult):\n",
    "            matchingLine = line\n",
    "            print(matchingLine, end='')\n",
    "# no lines as no lines start with an IP address "
   ]
  },
  {
   "cell_type": "code",
   "execution_count": 293,
   "metadata": {},
   "outputs": [],
   "source": [
    "# 2.c The dates and times at the end of each line \n",
    "\n",
    "regex = '$\\d'\n",
    "\n",
    "with open(filename) as inputFile:\n",
    "    for line in inputFile:\n",
    "        searchresult = re.search(regex, line)\n",
    "        if (searchresult):\n",
    "            matchingLine = line\n",
    "            print(matchingLine, end='')\n",
    "# no lines as no lines have dates or times at end "
   ]
  },
  {
   "cell_type": "code",
   "execution_count": 294,
   "metadata": {},
   "outputs": [
    {
     "name": "stdout",
     "output_type": "stream",
     "text": [
      "Thu Oct 17 2024 16:33:52 www1 sshd[4747]: Failed password for invalid user jabber from 118.142.68.222 port 3187 ssh2\n",
      "Thu Oct 17 2024 16:33:52 www1 sshd[4111]: Failed password for invalid user db2 from 118.142.68.222 port 4150 ssh2\n",
      "Thu Oct 17 2024 16:33:52 www1 sshd[5359]: Failed password for invalid user pmuser from 118.142.68.222 port 3356 ssh2\n",
      "Thu Oct 17 2024 16:33:52 www1 su: pam_unix(su:session): session opened for user root by djohnson(uid=0)\n",
      "Thu Oct 17 2024 16:33:52 www1 sshd[2660]: Failed password for invalid user irc from 118.142.68.222 port 4343 ssh2\n",
      "Thu Oct 17 2024 16:33:52 www1 sshd[1705]: Failed password for happy from 118.142.68.222 port 4174 ssh2\n",
      "Thu Oct 17 2024 16:33:52 www1 sshd[1292]: Failed password for nobody from 118.142.68.222 port 1654 ssh2\n",
      "Thu Oct 17 2024 16:33:52 www1 sshd[1560]: Failed password for invalid user local from 118.142.68.222 port 4616 ssh2\n",
      "Thu Oct 17 2024 16:33:52 www1 sshd[59414]: Accepted password for myuan from 10.1.10.172 port 1569 ssh2\n",
      "Thu Oct 17 2024 16:33:52 www1 sshd[1876]: Failed password for invalid user db2 from 118.142.68.222 port 1151 ssh2\n",
      "Thu Oct 17 2024 16:33:52 www1 sshd[3310]: Failed password for apache from 118.142.68.222 port 4343 ssh2\n",
      "Thu Oct 17 2024 16:33:52 www1 sshd[2149]: Failed password for nobody from 118.142.68.222 port 1527 ssh2\n",
      "Thu Oct 17 2024 16:33:52 www1 sshd[2766]: Failed password for invalid user guest from 118.142.68.222 port 2581 ssh2\n",
      "Thu Oct 17 2024 16:33:52 www1 sshd[3118]: pam_unix(sshd:session): session opened for user djohnson by (uid=0)\n",
      "Thu Oct 17 2024 16:33:52 www1 sshd[2598]: Failed password for invalid user system from 118.142.68.222 port 1848 ssh2\n",
      "Thu Oct 17 2024 16:33:52 www1 sshd[4637]: Failed password for invalid user sys from 211.140.3.183 port 1202 ssh2\n",
      "Thu Oct 17 2024 16:33:52 www1 sshd[1335]: Failed password for invalid user mysql from 211.140.3.183 port 3043 ssh2\n",
      "Thu Oct 17 2024 16:33:52 www1 sshd[4153]: Failed password for squid from 211.140.3.183 port 3634 ssh2\n",
      "Thu Oct 17 2024 16:33:52 www1 sshd[3149]: Failed password for invalid user irc from 208.240.243.170 port 3104 ssh2\n",
      "Thu Oct 17 2024 16:33:52 www1 sshd[4620]: Failed password for invalid user sysadmin from 208.240.243.170 port 3321 ssh2\n",
      "Thu Oct 17 2024 16:33:52 www1 sshd[1260]: Failed password for invalid user limbo from 208.240.243.170 port 3720 ssh2\n",
      "Thu Oct 17 2024 16:33:52 www1 sshd[6069]: Accepted password for djohnson from 10.3.10.46 port 9177 ssh2\n",
      "Thu Oct 17 2024 16:33:52 www1 sshd[3919]: Failed password"
     ]
    }
   ],
   "source": [
    "# 2.d The dates and times \n",
    "\n",
    "regex = '\\w{3} \\d{2} \\d{4} \\d{2}:\\d{2}:\\d{2}'\n",
    "\n",
    "with open(filename) as inputFile:\n",
    "    for line in inputFile:\n",
    "        searchresult = re.search(regex, line)\n",
    "        if (searchresult):\n",
    "            matchingLine = line\n",
    "            print(matchingLine, end='')\n",
    "# all lines "
   ]
  },
  {
   "cell_type": "code",
   "execution_count": 295,
   "metadata": {},
   "outputs": [
    {
     "name": "stdout",
     "output_type": "stream",
     "text": [
      "Thu Oct 17 2024 16:33:52 www1 sshd[4747]: Failed password for invalid user jabber from 118.142.68.222 port 3187 ssh2\n",
      "Thu Oct 17 2024 16:33:52 www1 sshd[4111]: Failed password for invalid user db2 from 118.142.68.222 port 4150 ssh2\n",
      "Thu Oct 17 2024 16:33:52 www1 sshd[5359]: Failed password for invalid user pmuser from 118.142.68.222 port 3356 ssh2\n",
      "Thu Oct 17 2024 16:33:52 www1 su: pam_unix(su:session): session opened for user root by djohnson(uid=0)\n",
      "Thu Oct 17 2024 16:33:52 www1 sshd[2660]: Failed password for invalid user irc from 118.142.68.222 port 4343 ssh2\n",
      "Thu Oct 17 2024 16:33:52 www1 sshd[1705]: Failed password for happy from 118.142.68.222 port 4174 ssh2\n",
      "Thu Oct 17 2024 16:33:52 www1 sshd[1292]: Failed password for nobody from 118.142.68.222 port 1654 ssh2\n",
      "Thu Oct 17 2024 16:33:52 www1 sshd[1560]: Failed password for invalid user local from 118.142.68.222 port 4616 ssh2\n",
      "Thu Oct 17 2024 16:33:52 www1 sshd[59414]: Accepted password for myuan from 10.1.10.172 port 1569 ssh2\n",
      "Thu Oct 17 2024 16:33:52 www1 sshd[1876]: Failed password for invalid user db2 from 118.142.68.222 port 1151 ssh2\n",
      "Thu Oct 17 2024 16:33:52 www1 sshd[3310]: Failed password for apache from 118.142.68.222 port 4343 ssh2\n",
      "Thu Oct 17 2024 16:33:52 www1 sshd[2149]: Failed password for nobody from 118.142.68.222 port 1527 ssh2\n",
      "Thu Oct 17 2024 16:33:52 www1 sshd[2766]: Failed password for invalid user guest from 118.142.68.222 port 2581 ssh2\n",
      "Thu Oct 17 2024 16:33:52 www1 sshd[3118]: pam_unix(sshd:session): session opened for user djohnson by (uid=0)\n",
      "Thu Oct 17 2024 16:33:52 www1 sshd[2598]: Failed password for invalid user system from 118.142.68.222 port 1848 ssh2\n",
      "Thu Oct 17 2024 16:33:52 www1 sshd[4637]: Failed password for invalid user sys from 211.140.3.183 port 1202 ssh2\n",
      "Thu Oct 17 2024 16:33:52 www1 sshd[1335]: Failed password for invalid user mysql from 211.140.3.183 port 3043 ssh2\n",
      "Thu Oct 17 2024 16:33:52 www1 sshd[4153]: Failed password for squid from 211.140.3.183 port 3634 ssh2\n",
      "Thu Oct 17 2024 16:33:52 www1 sshd[3149]: Failed password for invalid user irc from 208.240.243.170 port 3104 ssh2\n",
      "Thu Oct 17 2024 16:33:52 www1 sshd[4620]: Failed password for invalid user sysadmin from 208.240.243.170 port 3321 ssh2\n",
      "Thu Oct 17 2024 16:33:52 www1 sshd[1260]: Failed password for invalid user limbo from 208.240.243.170 port 3720 ssh2\n",
      "Thu Oct 17 2024 16:33:52 www1 sshd[6069]: Accepted password for djohnson from 10.3.10.46 port 9177 ssh2\n",
      "Thu Oct 17 2024 16:33:52 www1 sshd[3919]: Failed password"
     ]
    }
   ],
   "source": [
    "# 2.e The times \n",
    "\n",
    "regex =  '[0-9]{2}:[0-9]{2}:[0-9]{2}' # or \\d{2}:\\d{2}:\\d{2}\n",
    "\n",
    "with open(filename) as inputFile:\n",
    "    for line in inputFile:\n",
    "        searchresult = re.search(regex, line)\n",
    "        if (searchresult):\n",
    "            matchingLine = line\n",
    "            print(matchingLine, end='')\n",
    "# all lines "
   ]
  },
  {
   "cell_type": "code",
   "execution_count": 296,
   "metadata": {},
   "outputs": [
    {
     "name": "stdout",
     "output_type": "stream",
     "text": [
      "Thu Oct 17 2024 16:33:52 www1 su: pam_unix(su:session): session opened for user root by djohnson(uid=0)\n",
      "Thu Oct 17 2024 16:33:52 www1 sshd[3118]: pam_unix(sshd:session): session opened for user djohnson by (uid=0)\n"
     ]
    }
   ],
   "source": [
    "# 2.f The variable names in the urls\n",
    "\n",
    "regex =  '\\w+='\n",
    "\n",
    "with open(filename) as inputFile:\n",
    "    for line in inputFile:\n",
    "        searchresult = re.search(regex, line)\n",
    "        if (searchresult):\n",
    "            matchingLine = line\n",
    "            print(matchingLine, end='')\n",
    "# Only two"
   ]
  },
  {
   "cell_type": "code",
   "execution_count": 297,
   "metadata": {},
   "outputs": [
    {
     "name": "stdout",
     "output_type": "stream",
     "text": [
      "Thu Oct 17 2024 16:33:52 www1 su: pam_unix(su:session): session opened for user root by djohnson(uid=0)\n",
      "Thu Oct 17 2024 16:33:52 www1 sshd[3118]: pam_unix(sshd:session): session opened for user djohnson by (uid=0)\n"
     ]
    }
   ],
   "source": [
    "# 2.g The variable values in the urls\n",
    "\n",
    "regex =  '=\\w+'\n",
    "\n",
    "with open(filename) as inputFile:\n",
    "    for line in inputFile:\n",
    "        searchresult = re.search(regex, line)\n",
    "        if (searchresult):\n",
    "            matchingLine = line\n",
    "            print(matchingLine, end='')\n",
    "# Only two"
   ]
  },
  {
   "cell_type": "code",
   "execution_count": 298,
   "metadata": {},
   "outputs": [
    {
     "name": "stdout",
     "output_type": "stream",
     "text": [
      "Thu Oct 17 2024 16:33:52 www1 sshd[4747]: Failed password for invalid user jabber from 118.142.68.222 port 3187 ssh2\n",
      "Thu Oct 17 2024 16:33:52 www1 sshd[4111]: Failed password for invalid user db2 from 118.142.68.222 port 4150 ssh2\n",
      "Thu Oct 17 2024 16:33:52 www1 sshd[5359]: Failed password for invalid user pmuser from 118.142.68.222 port 3356 ssh2\n",
      "Thu Oct 17 2024 16:33:52 www1 sshd[2660]: Failed password for invalid user irc from 118.142.68.222 port 4343 ssh2\n",
      "Thu Oct 17 2024 16:33:52 www1 sshd[1705]: Failed password for happy from 118.142.68.222 port 4174 ssh2\n",
      "Thu Oct 17 2024 16:33:52 www1 sshd[1292]: Failed password for nobody from 118.142.68.222 port 1654 ssh2\n",
      "Thu Oct 17 2024 16:33:52 www1 sshd[1560]: Failed password for invalid user local from 118.142.68.222 port 4616 ssh2\n",
      "Thu Oct 17 2024 16:33:52 www1 sshd[59414]: Accepted password for myuan from 10.1.10.172 port 1569 ssh2\n",
      "Thu Oct 17 2024 16:33:52 www1 sshd[1876]: Failed password for invalid user db2 from 118.142.68.222 port 1151 ssh2\n",
      "Thu Oct 17 2024 16:33:52 www1 sshd[3310]: Failed password for apache from 118.142.68.222 port 4343 ssh2\n",
      "Thu Oct 17 2024 16:33:52 www1 sshd[2149]: Failed password for nobody from 118.142.68.222 port 1527 ssh2\n",
      "Thu Oct 17 2024 16:33:52 www1 sshd[2766]: Failed password for invalid user guest from 118.142.68.222 port 2581 ssh2\n",
      "Thu Oct 17 2024 16:33:52 www1 sshd[2598]: Failed password for invalid user system from 118.142.68.222 port 1848 ssh2\n",
      "Thu Oct 17 2024 16:33:52 www1 sshd[4637]: Failed password for invalid user sys from 211.140.3.183 port 1202 ssh2\n",
      "Thu Oct 17 2024 16:33:52 www1 sshd[1335]: Failed password for invalid user mysql from 211.140.3.183 port 3043 ssh2\n",
      "Thu Oct 17 2024 16:33:52 www1 sshd[4153]: Failed password for squid from 211.140.3.183 port 3634 ssh2\n",
      "Thu Oct 17 2024 16:33:52 www1 sshd[3149]: Failed password for invalid user irc from 208.240.243.170 port 3104 ssh2\n",
      "Thu Oct 17 2024 16:33:52 www1 sshd[4620]: Failed password for invalid user sysadmin from 208.240.243.170 port 3321 ssh2\n",
      "Thu Oct 17 2024 16:33:52 www1 sshd[1260]: Failed password for invalid user limbo from 208.240.243.170 port 3720 ssh2\n",
      "Thu Oct 17 2024 16:33:52 www1 sshd[6069]: Accepted password for djohnson from 10.3.10.46 port 9177 ssh2\n"
     ]
    }
   ],
   "source": [
    "# 2.h The last 2 triples of an IP address.\n",
    "\n",
    "regex =  '\\d{1,3}\\.\\d{1,3}[^\\.]'\n",
    "\n",
    "with open(filename) as inputFile:\n",
    "    for line in inputFile:\n",
    "        searchresult = re.search(regex, line)\n",
    "        if (searchresult):\n",
    "            matchingLine = line\n",
    "            print(matchingLine, end='')\n",
    "# All, but the last as that line got cut off when it was slided"
   ]
  },
  {
   "cell_type": "markdown",
   "metadata": {},
   "source": [
    "## Task Three \n",
    "\n",
    "Use the below python code to try out regular expressions to see what python returns\n",
    "\n",
    ">regex =  '\\[.*\\]'\n",
    ">with open(filename) as inputFile:\n",
    ">>     for line in inputFile:\n",
    ">>>          found_text_list = re.findall(regex, line)\n",
    ">>>>          if (len(found_text_list) != 0):\n",
    ">>>>>              found_text = found_text_list[0]\n",
    ">>>>>              print(found_text)\n",
    "\n"
   ]
  },
  {
   "cell_type": "code",
   "execution_count": 299,
   "metadata": {},
   "outputs": [
    {
     "name": "stdout",
     "output_type": "stream",
     "text": [
      "[4747]\n",
      "[4111]\n",
      "[5359]\n",
      "Regex not found\n",
      "[2660]\n",
      "[1705]\n",
      "[1292]\n",
      "[1560]\n",
      "[59414]\n",
      "[1876]\n",
      "[3310]\n",
      "[2149]\n",
      "[2766]\n",
      "[3118]\n",
      "[2598]\n",
      "[4637]\n",
      "[1335]\n",
      "[4153]\n",
      "[3149]\n",
      "[4620]\n",
      "[1260]\n",
      "[6069]\n",
      "[3919]\n"
     ]
    }
   ],
   "source": [
    "regex =  '\\[.*\\]'\n",
    "\n",
    "with open(filename) as inputFile:\n",
    "    for line in inputFile:\n",
    "        found_text_list = re.findall(regex, line)\n",
    "        if (len(found_text_list) != 0):\n",
    "            found_text = found_text_list[0]\n",
    "            print(found_text)\n",
    "        else:\n",
    "            print(\"Regex not found\")\n",
    "\n",
    "# This was updated to add an else statement to print when the regex was not found "
   ]
  },
  {
   "cell_type": "markdown",
   "metadata": {},
   "source": [
    "## Task Four \n",
    "\n",
    "Write some code that will anonymise the sub domains of IP addresses by X-ing out the last two triplets, with the new lines stored in another file."
   ]
  },
  {
   "cell_type": "code",
   "execution_count": 300,
   "metadata": {},
   "outputs": [
    {
     "name": "stdout",
     "output_type": "stream",
     "text": [
      "Thu Oct 17 2024 16:33:52 www1 sshd[4747]: Failed password for invalid user jabber from 118.142.XXX.XXX  port 3187 ssh2\n",
      "\n",
      "Thu Oct 17 2024 16:33:52 www1 sshd[4111]: Failed password for invalid user db2 from 118.142.XXX.XXX  port 4150 ssh2\n",
      "\n",
      "Thu Oct 17 2024 16:33:52 www1 sshd[5359]: Failed password for invalid user pmuser from 118.142.XXX.XXX  port 3356 ssh2\n",
      "\n",
      "Thu Oct 17 2024 16:33:52 www1 su: pam_unix(su:session): session opened for user root by djohnson(uid=0)\n",
      "\n",
      "Thu Oct 17 2024 16:33:52 www1 sshd[2660]: Failed password for invalid user irc from 118.142.XXX.XXX  port 4343 ssh2\n",
      "\n",
      "Thu Oct 17 2024 16:33:52 www1 sshd[1705]: Failed password for happy from 118.142.XXX.XXX  port 4174 ssh2\n",
      "\n",
      "Thu Oct 17 2024 16:33:52 www1 sshd[1292]: Failed password for nobody from 118.142.XXX.XXX  port 1654 ssh2\n",
      "\n",
      "Thu Oct 17 2024 16:33:52 www1 sshd[1560]: Failed password for invalid user local from 118.142.XXX.XXX  port 4616 ssh2\n",
      "\n",
      "Thu Oct 17 2024 16:33:52 www1 sshd[59414]: Accepted password for myuan from 10.1.XXX.XXX  port 1569 ssh2\n",
      "\n",
      "Thu Oct 17 2024 16:33:52 www1 sshd[1876]: Failed password for invalid user db2 from 118.142.XXX.XXX  port 1151 ssh2\n",
      "\n",
      "Thu Oct 17 2024 16:33:52 www1 sshd[3310]: Failed password for apache from 118.142.XXX.XXX  port 4343 ssh2\n",
      "\n",
      "Thu Oct 17 2024 16:33:52 www1 sshd[2149]: Failed password for nobody from 118.142.XXX.XXX  port 1527 ssh2\n",
      "\n",
      "Thu Oct 17 2024 16:33:52 www1 sshd[2766]: Failed password for invalid user guest from 118.142.XXX.XXX  port 2581 ssh2\n",
      "\n",
      "Thu Oct 17 2024 16:33:52 www1 sshd[3118]: pam_unix(sshd:session): session opened for user djohnson by (uid=0)\n",
      "\n",
      "Thu Oct 17 2024 16:33:52 www1 sshd[2598]: Failed password for invalid user system from 118.142.XXX.XXX  port 1848 ssh2\n",
      "\n",
      "Thu Oct 17 2024 16:33:52 www1 sshd[4637]: Failed password for invalid user sys from 211.140.XXX.XXX  port 1202 ssh2\n",
      "\n",
      "Thu Oct 17 2024 16:33:52 www1 sshd[1335]: Failed password for invalid user mysql from 211.140.XXX.XXX  port 3043 ssh2\n",
      "\n",
      "Thu Oct 17 2024 16:33:52 www1 sshd[4153]: Failed password for squid from 211.140.XXX.XXX  port 3634 ssh2\n",
      "\n",
      "Thu Oct 17 2024 16:33:52 www1 sshd[3149]: Failed password for invalid user irc from 208.240.XXX.XXX  port 3104 ssh2\n",
      "\n",
      "Thu Oct 17 2024 16:33:52 www1 sshd[4620]: Failed password for invalid user sysadmin from 208.240.XXX.XXX  port 3321 ssh2\n",
      "\n",
      "Thu Oct 17 2024 16:33:52 www1 sshd[1260]: Failed password for invalid user limbo from 208.240.XXX.XXX  port 3720 ssh2\n",
      "\n",
      "Thu Oct 17 2024 16:33:52 www1 sshd[6069]: Accepted password for djohnson from 10.3.XXX.XXX  port 9177 ssh2\n",
      "\n",
      "Thu Oct 17 2024 16:33:52 www1 sshd[3919]: Failed password\n"
     ]
    }
   ],
   "source": [
    "# making a copy of smaller_access.txt so that the IP address can be edited\n",
    "shutil.copy('smaller_access.txt', 'smaller_access_copy.txt')\n",
    "\n",
    "regex = '(\\d{1,3}\\.\\d{1,3}\\.)\\d{1,3}\\.\\d{1,3}'\n",
    "replacement = '\\\\1XXX.XXX '\n",
    "\n",
    "filename = 'smaller_access_copy.txt'\n",
    "output_filename = 'anonymised_IP_addresses.txt'\n",
    "\n",
    "with open(filename) as inputFile:\n",
    "    with open(output_filename, 'w') as outputFile:\n",
    "        for line in inputFile:\n",
    "            newline = re.sub(regex, replacement, line)\n",
    "            outputFile.write(newline)\n",
    "            print(newline)"
   ]
  }
 ],
 "metadata": {
  "kernelspec": {
   "display_name": "base",
   "language": "python",
   "name": "python3"
  },
  "language_info": {
   "codemirror_mode": {
    "name": "ipython",
    "version": 3
   },
   "file_extension": ".py",
   "mimetype": "text/x-python",
   "name": "python",
   "nbconvert_exporter": "python",
   "pygments_lexer": "ipython3",
   "version": "3.11.9"
  }
 },
 "nbformat": 4,
 "nbformat_minor": 2
}
